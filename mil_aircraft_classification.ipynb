{
  "cells": [
    {
      "cell_type": "markdown",
      "metadata": {
        "id": "DOCJxt3ZYAeB"
      },
      "source": [
        "# DETECCIÓN DE MODELOS DE AVIONES MILITARES SEGUIDO DE UN ATAQUE FGSM GENÉRICO Y DIRIGIDO\n",
        "\n",
        "El objetivo de esta práctica es entrenar un modelo capaz de clasificar los diferentes aviones militares de este dataset (https://www.kaggle.com/datasets/a2015003713/militaryaircraftdetectiondataset) para a continuación a partir de un ataque FGSM genérico y dirigido, tratando en este último de forzar la clasificación hacia un conjunto de clases seleccionadas.\n"
      ]
    },
    {
      "cell_type": "markdown",
      "metadata": {
        "id": "J8dhWLrZbhqt"
      },
      "source": [
        "### CONFIGURACIÓN DEL ENTORNO"
      ]
    },
    {
      "cell_type": "code",
      "execution_count": null,
      "metadata": {
        "colab": {
          "base_uri": "https://localhost:8080/"
        },
        "id": "-RuE00ARwJKR",
        "outputId": "0deb9d77-92c9-443e-e664-65282591adac"
      },
      "outputs": [
        {
          "output_type": "stream",
          "name": "stdout",
          "text": [
            "Mon Apr 14 18:16:44 2025       \n",
            "+-----------------------------------------------------------------------------------------+\n",
            "| NVIDIA-SMI 550.54.15              Driver Version: 550.54.15      CUDA Version: 12.4     |\n",
            "|-----------------------------------------+------------------------+----------------------+\n",
            "| GPU  Name                 Persistence-M | Bus-Id          Disp.A | Volatile Uncorr. ECC |\n",
            "| Fan  Temp   Perf          Pwr:Usage/Cap |           Memory-Usage | GPU-Util  Compute M. |\n",
            "|                                         |                        |               MIG M. |\n",
            "|=========================================+========================+======================|\n",
            "|   0  Tesla T4                       Off |   00000000:00:04.0 Off |                    0 |\n",
            "| N/A   61C    P8             13W /   70W |       0MiB /  15360MiB |      0%      Default |\n",
            "|                                         |                        |                  N/A |\n",
            "+-----------------------------------------+------------------------+----------------------+\n",
            "                                                                                         \n",
            "+-----------------------------------------------------------------------------------------+\n",
            "| Processes:                                                                              |\n",
            "|  GPU   GI   CI        PID   Type   Process name                              GPU Memory |\n",
            "|        ID   ID                                                               Usage      |\n",
            "|=========================================================================================|\n",
            "|  No running processes found                                                             |\n",
            "+-----------------------------------------------------------------------------------------+\n"
          ]
        }
      ],
      "source": [
        "gpu_info = !nvidia-smi\n",
        "gpu_info = '\\n'.join(gpu_info)\n",
        "\n",
        "if gpu_info.find('failed') >= 0:\n",
        "    print('Not connected to a GPU')\n",
        "else:\n",
        "    print(gpu_info)"
      ]
    },
    {
      "cell_type": "code",
      "execution_count": null,
      "metadata": {
        "colab": {
          "base_uri": "https://localhost:8080/"
        },
        "id": "PU-3QfDzgbZ-",
        "outputId": "b3066d07-2cb5-4f93-d089-9aa8a92c3672"
      },
      "outputs": [
        {
          "output_type": "stream",
          "name": "stdout",
          "text": [
            "Downloading from https://www.kaggle.com/api/v1/datasets/download/a2015003713/militaryaircraftdetectiondataset?dataset_version_number=87...\n"
          ]
        },
        {
          "output_type": "stream",
          "name": "stderr",
          "text": [
            "100%|██████████| 9.94G/9.94G [05:14<00:00, 33.9MB/s]"
          ]
        },
        {
          "output_type": "stream",
          "name": "stdout",
          "text": [
            "Extracting files...\n"
          ]
        },
        {
          "output_type": "stream",
          "name": "stderr",
          "text": [
            "\n"
          ]
        },
        {
          "output_type": "stream",
          "name": "stdout",
          "text": [
            "Dataset guardado en /root/.cache/kagglehub/datasets/a2015003713/militaryaircraftdetectiondataset/versions/87\n"
          ]
        }
      ],
      "source": [
        "import warnings\n",
        "warnings.filterwarnings(\"ignore\")\n",
        "\n",
        "import os\n",
        "import random\n",
        "import pandas as pd\n",
        "import numpy as np\n",
        "import torch\n",
        "import matplotlib.pyplot as plt\n",
        "import tensorflow as tf\n",
        "import kagglehub\n",
        "import seaborn as sns\n",
        "from sklearn.metrics import confusion_matrix, classification_report\n",
        "\n",
        "# Descarga del dataset\n",
        "\n",
        "path = kagglehub.dataset_download(\"a2015003713/militaryaircraftdetectiondataset\")\n",
        "print(f\"Dataset guardado en {path}\")"
      ]
    },
    {
      "cell_type": "code",
      "execution_count": null,
      "metadata": {
        "colab": {
          "base_uri": "https://localhost:8080/"
        },
        "id": "6Mcf9q3Xu1Jv",
        "outputId": "9c42fe08-5988-43e9-dda5-5e8d664fc84f"
      },
      "outputs": [
        {
          "output_type": "stream",
          "name": "stdout",
          "text": [
            "Mounted at /content/drive\n"
          ]
        }
      ],
      "source": [
        "from google.colab import drive\n",
        "drive.mount('/content/drive')"
      ]
    },
    {
      "cell_type": "markdown",
      "metadata": {
        "id": "uajXEBuBY1E0"
      },
      "source": [
        "## PRIMERA PARTE. CARGA Y ANÁLISIS DEL DATASET"
      ]
    },
    {
      "cell_type": "code",
      "execution_count": null,
      "metadata": {
        "id": "qYiehHN_iPBU"
      },
      "outputs": [],
      "source": [
        "# En el dataset no viene el país de origen de los modelos, por tanto se añade posteriormente\n",
        "\n",
        "model_by_country = {\n",
        "    'EE. UU.': [\n",
        "        'F18', 'B1', 'C130', 'U2', 'V280', 'AV8B', 'C17', 'A10', 'RQ4',\n",
        "        'UH60', 'MQ9', 'B52', 'F15', 'YF23', 'F117', 'F22', 'C5', 'CH47',\n",
        "        'C2', 'E2', 'US2', 'P3', 'XB70', 'F35', 'F16', 'F14', 'B21', 'KC135',\n",
        "        'AH64', 'F4', 'B2', 'V22', 'SR71'\n",
        "    ],\n",
        "\n",
        "    'Rusia': [\n",
        "        'Su25', 'KJ600', 'Su57', 'Mi26', 'Tu160', 'Ka52', 'An72', 'Mi24',\n",
        "        'An124', 'Il76', 'Mig31', 'Tu22M', 'Mi28', 'Mi8', 'Su34', 'Su24',\n",
        "        'Tu95', 'Mig29', 'Ka27', 'An225', 'An22'\n",
        "    ],\n",
        "\n",
        "    'China': [\n",
        "        'J10', 'WZ7', 'Z19', 'Z10', 'Y20', 'J20', 'H6', 'JH7', 'AG600',\n",
        "        'TB001', 'TB2', 'WZ7', 'J35'\n",
        "    ],\n",
        "\n",
        "    'OTAN': [\n",
        "        'EF2000', 'Tornado', 'A400M', 'Rafale', 'JAS39', 'Mirage2000',\n",
        "        'Vulcan', 'KAAN', 'C390', 'Be200'\n",
        "    ],\n",
        "\n",
        "    'Canada': [\n",
        "        'CL415'\n",
        "    ],\n",
        "\n",
        "    'Brasil': [\n",
        "        'EMB314', 'E7'\n",
        "    ],\n",
        "\n",
        "    'Japón': [\n",
        "        'KF21', 'US2'\n",
        "    ],\n",
        "\n",
        "    'Pakistán': [\n",
        "        'JF17'\n",
        "    ]\n",
        "}\n",
        "\n",
        "model_to_country = {}\n",
        "for country, models in model_by_country.items():\n",
        "    for model in models:\n",
        "        model_to_country[model] = country"
      ]
    },
    {
      "cell_type": "code",
      "execution_count": null,
      "metadata": {
        "colab": {
          "base_uri": "https://localhost:8080/"
        },
        "id": "3bgY4MjEZEfQ",
        "outputId": "8f38e9fe-74ce-4ced-f8c7-c13fccb02173"
      },
      "outputs": [
        {
          "output_type": "stream",
          "name": "stdout",
          "text": [
            "Hay un total de 83 modelos diferentes, 35410 imágenes y 8 paises de orígen diferentes.\n"
          ]
        }
      ],
      "source": [
        "# Leer el contenido del dataset y construir el dataframe\n",
        "\n",
        "main_dir = os.path.join(path,\"crop\")\n",
        "train_image_path = []\n",
        "train_labels = []\n",
        "total_images = 0\n",
        "\n",
        "for folder in os.listdir(main_dir):\n",
        "    folder_path = os.path.join(main_dir,folder)\n",
        "    total_images += len(os.listdir(folder_path))\n",
        "\n",
        "    for image in os.listdir(folder_path):\n",
        "        image_path = os.path.join(folder_path,image)\n",
        "        train_image_path.append(image_path)\n",
        "        train_labels.append(folder)\n",
        "\n",
        "df = pd.DataFrame(data={'file_path':train_image_path,'label':train_labels})\n",
        "df['country'] = df['label'].apply(lambda x: model_to_country.get(x))\n",
        "\n",
        "print(f\"Hay un total de {len(os.listdir(main_dir))} modelos diferentes, {total_images} imágenes y {len(model_by_country)} paises de orígen diferentes.\")"
      ]
    },
    {
      "cell_type": "code",
      "execution_count": null,
      "metadata": {
        "colab": {
          "base_uri": "https://localhost:8080/",
          "height": 566
        },
        "id": "AF75JTjqwjC6",
        "outputId": "d01a05ba-b30b-46f9-d0c5-2effd8a24166"
      },
      "outputs": [
        {
          "output_type": "display_data",
          "data": {
            "text/plain": [
              "<Figure size 1200x600 with 1 Axes>"
            ],
            "image/png": "[encoded data removed]"
          },
          "metadata": {}
        }
      ],
      "source": [
        "# Mostrar el número de modelos por país\n",
        "\n",
        "model_counts_by_country = df.groupby('country')['label'].nunique()\n",
        "model_counts_by_country = model_counts_by_country.sort_values(ascending=False)\n",
        "\n",
        "plt.figure(figsize=(12,6))\n",
        "bars = plt.bar(model_counts_by_country.index, model_counts_by_country.values, color='skyblue', edgecolor='black')\n",
        "plt.bar_label(bars, padding=3)\n",
        "plt.title('Número de modelos por país')\n",
        "plt.xlabel('País de orígen')\n",
        "plt.ylabel('Número de modelos')\n",
        "plt.xticks(rotation=0)\n",
        "plt.grid(axis=\"y\", linestyle=\"-\", alpha=0.7)\n",
        "plt.show()"
      ]
    },
    {
      "cell_type": "code",
      "execution_count": null,
      "metadata": {
        "colab": {
          "base_uri": "https://localhost:8080/",
          "height": 566
        },
        "id": "yGSL30Xlxbuv",
        "outputId": "8933ea25-33de-4f61-c553-e7d9737ad38b"
      },
      "outputs": [
        {
          "output_type": "display_data",
          "data": {
            "text/plain": [
              "<Figure size 1200x600 with 1 Axes>"
            ],
            "image/png": "[encoded data removed]"
          },
          "metadata": {}
        }
      ],
      "source": [
        "# Mostrar el número de imágenes por país\n",
        "\n",
        "country_counts = df['country'].value_counts()\n",
        "country_counts = country_counts.sort_values(ascending=False)\n",
        "\n",
        "plt.figure(figsize=(12,6))\n",
        "bars = plt.bar(country_counts.index, country_counts.values, color='skyblue', edgecolor='black')\n",
        "plt.bar_label(bars, padding=3)\n",
        "plt.title('Número de imágenes por país')\n",
        "plt.xlabel('País de orígen')\n",
        "plt.ylabel('Número de imágenes')\n",
        "plt.xticks(rotation=0)\n",
        "plt.grid(axis=\"y\", linestyle=\"-\", alpha=0.7)\n",
        "plt.show()"
      ]
    },
    {
      "cell_type": "code",
      "execution_count": null,
      "metadata": {
        "colab": {
          "base_uri": "https://localhost:8080/",
          "height": 216
        },
        "id": "ACyrGfRKoDEt",
        "outputId": "5789e72d-7c29-4e03-f675-05f369ff718e"
      },
      "outputs": [
        {
          "output_type": "error",
          "ename": "TypeError",
          "evalue": "'<' not supported between instances of 'float' and 'str'",
          "traceback": [
            "\u001b[0;31m---------------------------------------------------------------------------\u001b[0m",
            "\u001b[0;31mTypeError\u001b[0m                                 Traceback (most recent call last)",
            "\u001b[0;32m<ipython-input-8-8bc41f14500f>\u001b[0m in \u001b[0;36m<cell line: 0>\u001b[0;34m()\u001b[0m\n\u001b[1;32m      7\u001b[0m \u001b[0mmodel_counts\u001b[0m\u001b[0;34m[\u001b[0m\u001b[0;34m'country'\u001b[0m\u001b[0;34m]\u001b[0m \u001b[0;34m=\u001b[0m \u001b[0mmodel_counts\u001b[0m\u001b[0;34m[\u001b[0m\u001b[0;34m'label'\u001b[0m\u001b[0;34m]\u001b[0m\u001b[0;34m.\u001b[0m\u001b[0mmap\u001b[0m\u001b[0;34m(\u001b[0m\u001b[0mmodel_to_country\u001b[0m\u001b[0;34m)\u001b[0m\u001b[0;34m\u001b[0m\u001b[0;34m\u001b[0m\u001b[0m\n\u001b[1;32m      8\u001b[0m \u001b[0;34m\u001b[0m\u001b[0m\n\u001b[0;32m----> 9\u001b[0;31m \u001b[0mcountries\u001b[0m \u001b[0;34m=\u001b[0m \u001b[0msorted\u001b[0m\u001b[0;34m(\u001b[0m\u001b[0mmodel_counts\u001b[0m\u001b[0;34m[\u001b[0m\u001b[0;34m'country'\u001b[0m\u001b[0;34m]\u001b[0m\u001b[0;34m.\u001b[0m\u001b[0munique\u001b[0m\u001b[0;34m(\u001b[0m\u001b[0;34m)\u001b[0m\u001b[0;34m)\u001b[0m\u001b[0;34m\u001b[0m\u001b[0;34m\u001b[0m\u001b[0m\n\u001b[0m\u001b[1;32m     10\u001b[0m \u001b[0mnum_countries\u001b[0m \u001b[0;34m=\u001b[0m \u001b[0mlen\u001b[0m\u001b[0;34m(\u001b[0m\u001b[0mcountries\u001b[0m\u001b[0;34m)\u001b[0m\u001b[0;34m\u001b[0m\u001b[0;34m\u001b[0m\u001b[0m\n\u001b[1;32m     11\u001b[0m \u001b[0mcolors\u001b[0m \u001b[0;34m=\u001b[0m \u001b[0mplt\u001b[0m\u001b[0;34m.\u001b[0m\u001b[0mcm\u001b[0m\u001b[0;34m.\u001b[0m\u001b[0mget_cmap\u001b[0m\u001b[0;34m(\u001b[0m\u001b[0;34m'gnuplot_r'\u001b[0m\u001b[0;34m,\u001b[0m \u001b[0mnum_countries\u001b[0m\u001b[0;34m)\u001b[0m\u001b[0;34m\u001b[0m\u001b[0;34m\u001b[0m\u001b[0m\n",
            "\u001b[0;31mTypeError\u001b[0m: '<' not supported between instances of 'float' and 'str'"
          ]
        }
      ],
      "source": [
        "# Mostrar el número de imágenes por modelo de avión y por país\n",
        "\n",
        "model_counts = df[\"label\"].value_counts()\n",
        "\n",
        "model_counts = model_counts.to_frame().reset_index()\n",
        "model_counts.columns = ['label', 'count']\n",
        "model_counts['country'] = model_counts['label'].map(model_to_country)\n",
        "\n",
        "countries = sorted(model_counts['country'].unique())\n",
        "num_countries = len(countries)\n",
        "colors = plt.cm.get_cmap('gnuplot_r', num_countries)\n",
        "\n",
        "plt.figure(figsize=(20, 7))\n",
        "plt.xlabel(\"Modelo\")\n",
        "plt.ylabel(\"Número de imágenes\")\n",
        "plt.title(\"Número de imágenes por modelo\")\n",
        "plt.xticks(rotation=90)\n",
        "plt.grid(axis=\"y\", linestyle=\"-\", alpha=0.7)\n",
        "\n",
        "handles = []\n",
        "labels = []\n",
        "for i, country in enumerate(countries):\n",
        "    handles.append(plt.Rectangle((0, 0), 1, 1, color=colors(i)))\n",
        "    labels.append(country)\n",
        "\n",
        "plt.legend(handles, labels, title=\"País de orígen\")\n",
        "\n",
        "for i, (country, group) in enumerate(model_counts.groupby('country')):\n",
        "    bar = plt.bar(group['label'], group['count'], color=colors(i), label=country)\n",
        "    plt.bar_label(bar, padding=3, rotation=90)\n",
        "\n",
        "plt.tight_layout()\n",
        "plt.show()"
      ]
    },
    {
      "cell_type": "markdown",
      "metadata": {
        "id": "Fi4YfqMTZEqf"
      },
      "source": [
        "## SEGUNDA PARTE. ENTRENAMIENTO DEL MODELO"
      ]
    },
    {
      "cell_type": "code",
      "execution_count": null,
      "metadata": {
        "id": "djjViMyGZIK1"
      },
      "outputs": [],
      "source": [
        "from sklearn.model_selection import train_test_split\n",
        "\n",
        "# Dividir en conjunto de entrenamiento (70%) y prueba (30%)\n",
        "train_df, test_df = train_test_split(df,\n",
        "                                     test_size = 0.3,\n",
        "                                     stratify = df['label'],\n",
        "                                     random_state = 42\n",
        "                                     )\n",
        "\n",
        "# Dividir el conjunto de prueba en validación (15%) y prueba (15%)\n",
        "test_df, val_df = train_test_split(test_df,\n",
        "                                     test_size = 0.5,\n",
        "                                     stratify = test_df['label'],\n",
        "                                     random_state = 42\n",
        "                                   )\n",
        "\n",
        "# train_df: 70% de los datos para entrenamiento\n",
        "# val_df: 15% de los datos para validación\n",
        "# test_df: 15% de los datos para prueba"
      ]
    },
    {
      "cell_type": "code",
      "execution_count": null,
      "metadata": {
        "id": "B6Br4oxZk47L"
      },
      "outputs": [],
      "source": [
        "from tensorflow.keras.preprocessing.image import ImageDataGenerator\n",
        "\n",
        "batch_size = 1\n",
        "img_size = (224, 224)\n",
        "\n",
        "gen = ImageDataGenerator()\n",
        "\n",
        "train_gen = gen.flow_from_dataframe(\n",
        "    train_df,\n",
        "    x_col= 'file_path',\n",
        "    y_col= 'label',\n",
        "    target_size= img_size,\n",
        "    class_mode= 'categorical',\n",
        "    color_mode= 'rgb',\n",
        "    shuffle= True,\n",
        "    batch_size= batch_size\n",
        ")\n",
        "\n",
        "valid_gen = gen.flow_from_dataframe(\n",
        "    val_df,\n",
        "    x_col= 'file_path',\n",
        "    y_col= 'label',\n",
        "    target_size= img_size,\n",
        "    class_mode= 'categorical',\n",
        "    color_mode= 'rgb',\n",
        "    shuffle= False,\n",
        "    batch_size= batch_size\n",
        ")\n",
        "\n",
        "test_gen = gen.flow_from_dataframe(\n",
        "    test_df,\n",
        "    x_col= 'file_path',\n",
        "    y_col= 'label',\n",
        "    target_size= img_size,\n",
        "    class_mode= 'categorical',\n",
        "    color_mode= 'rgb',\n",
        "    shuffle= False,\n",
        "    batch_size= batch_size\n",
        ")"
      ]
    },
    {
      "cell_type": "code",
      "execution_count": null,
      "metadata": {
        "id": "7zNKcqeAm4L1"
      },
      "outputs": [],
      "source": [
        "# Mostrar 20 imágenes de 20 clases aleatorias\n",
        "\n",
        "g_dict = train_gen.class_indices\n",
        "classes = list(g_dict.keys())\n",
        "num_classes = len(classes)\n",
        "random_classes = random.sample(classes, 20)\n",
        "displayed_classes = set()\n",
        "\n",
        "plt.figure(figsize=(20, 20))\n",
        "\n",
        "for i, class_name in enumerate(random_classes):\n",
        "    if class_name in displayed_classes:\n",
        "        continue\n",
        "\n",
        "    for j in range(len(train_gen)):\n",
        "        images, labels = next(train_gen)\n",
        "        for k in range(images.shape[0]):\n",
        "            index = np.argmax(labels[k])\n",
        "            if classes[index] == class_name:\n",
        "                plt.subplot(4, 5, i + 1)\n",
        "                image = images[k] / 255\n",
        "                plt.imshow(image)\n",
        "                plt.title(class_name, color='black', fontsize=14)\n",
        "                plt.axis('off')\n",
        "                displayed_classes.add(class_name)\n",
        "                break\n",
        "        else:\n",
        "            continue\n",
        "        break\n",
        "\n",
        "plt.show()"
      ]
    },
    {
      "cell_type": "code",
      "execution_count": null,
      "metadata": {
        "id": "51JjK5gZKJ07"
      },
      "outputs": [],
      "source": [
        "# Carga del modelo entrenado\n",
        "\n",
        "from tensorflow import keras\n",
        "\n",
        "model_path = '/content/drive/MyDrive/20250330_efficientnet.keras'\n",
        "model = keras.models.load_model(model_path)"
      ]
    },
    {
      "cell_type": "code",
      "execution_count": null,
      "metadata": {
        "id": "iApIS_sKydFH"
      },
      "outputs": [],
      "source": [
        "# DESCOMENTAR ESTA CELDA Y COMENTAR LA ANTERIOR PARA ENTRENAR EL MODELO\n",
        "\n",
        "# from tensorflow.keras.models import Sequential\n",
        "# from tensorflow.keras.layers import Conv2D, MaxPooling2D, Flatten, Dense, Dropout\n",
        "# from tensorflow.keras.applications import EfficientNetB3\n",
        "# from tensorflow.keras.optimizers import Adamax\n",
        "# from tensorflow.keras.callbacks import EarlyStopping, ReduceLROnPlateau\n",
        "# from tensorflow.keras import regularizers\n",
        "\n",
        "# num_epochs = 25\n",
        "\n",
        "# channels = 3\n",
        "# img_shape = (img_size[0], img_size[1], channels)\n",
        "# class_count = len(list(train_gen.class_indices.keys()))\n",
        "\n",
        "# base_model = EfficientNetB3(\n",
        "#     weights='imagenet',\n",
        "#     include_top=False,\n",
        "#     input_shape=img_shape,\n",
        "#     pooling=\"max\"\n",
        "# )\n",
        "\n",
        "# model = Sequential([\n",
        "#     base_model,\n",
        "#     Flatten(),\n",
        "#     Dense(512, activation=\"relu\", kernel_regularizer=regularizers.l2(0.001)),\n",
        "#     Dropout(0.5),\n",
        "#     Dense(class_count, activation=\"softmax\")\n",
        "# ])\n",
        "\n",
        "# model.compile(\n",
        "#     Adamax(learning_rate= 0.0001),\n",
        "#     loss= 'categorical_crossentropy',\n",
        "#     metrics= ['accuracy']\n",
        "# )\n",
        "\n",
        "# early_stopping = EarlyStopping(\n",
        "#     monitor='val_loss',\n",
        "#     patience=3,\n",
        "#     restore_best_weights=True,\n",
        "#     verbose=1\n",
        "# )\n",
        "\n",
        "# reduce_lr = ReduceLROnPlateau(\n",
        "#     monitor='val_loss',\n",
        "#     factor=0.2,\n",
        "#     patience=3,\n",
        "#     min_lr=1e-6,\n",
        "#     verbose=1\n",
        "# )\n",
        "\n",
        "# history = model.fit(\n",
        "#     train_gen,\n",
        "#     epochs=num_epochs,\n",
        "#     validation_data=valid_gen,\n",
        "#     batch_size=batch_size,\n",
        "#     callbacks=[early_stopping, reduce_lr]\n",
        "# )\n",
        "\n",
        "# import datetime\n",
        "\n",
        "# current_datetime = datetime.datetime.now()\n",
        "# day_string = current_datetime.strftime(\"%Y%m%d\")\n",
        "# model_save_path = f'/content/drive/MyDrive/{day_string}_efficientnet.keras'\n",
        "# model.save(model_save_path)\n",
        "# print(f'Path: {day_string}.h5')\n",
        "\n",
        "# tr_acc = history.history['accuracy']\n",
        "# tr_loss = history.history['loss']\n",
        "# val_acc = history.history['val_accuracy']\n",
        "# val_loss = history.history['val_loss']\n",
        "# index_loss = np.argmin(val_loss)\n",
        "# val_lowest = val_loss[index_loss]\n",
        "# index_acc = np.argmax(val_acc)\n",
        "# acc_highest = val_acc[index_acc]\n",
        "\n",
        "# Epochs = [i+1 for i in range(len(tr_acc))]\n",
        "# loss_label = f'best epoch= {str(index_loss + 1)}'\n",
        "# acc_label = f'best epoch= {str(index_acc + 1)}'\n",
        "\n",
        "# # Plot training history\n",
        "# plt.figure(figsize= (20, 8))\n",
        "# plt.style.use('fivethirtyeight')\n",
        "\n",
        "# plt.subplot(1, 2, 1)\n",
        "# plt.plot(Epochs, tr_acc, 'r', label= 'Training Accuracy')\n",
        "# plt.plot(Epochs, val_acc, 'g', label= 'Validation Accuracy')\n",
        "# plt.scatter(index_acc + 1 , acc_highest, s= 150, c= 'blue', label= acc_label)\n",
        "# plt.title('Training and Validation Accuracy')\n",
        "# plt.xlabel('Epochs')\n",
        "# plt.ylabel('Accuracy')\n",
        "# plt.legend()\n",
        "\n",
        "# plt.subplot(1, 2, 2)\n",
        "# plt.plot(Epochs, tr_loss, 'r', label= 'Training loss')\n",
        "# plt.plot(Epochs, val_loss, 'g', label= 'Validation loss')\n",
        "# plt.scatter(index_loss + 1, val_lowest, s= 150, c= 'blue', label= loss_label)\n",
        "# plt.title('Training and Validation Loss')\n",
        "# plt.xlabel('Epochs')\n",
        "# plt.ylabel('Loss')\n",
        "# plt.legend()\n",
        "\n",
        "# plt.tight_layout\n",
        "# plt.show()"
      ]
    },
    {
      "cell_type": "code",
      "execution_count": null,
      "metadata": {
        "id": "w44v0pYjkiWk"
      },
      "outputs": [],
      "source": [
        "loss, accuracy = model.evaluate(test_gen)\n",
        "print('Test accuracy:', accuracy)\n",
        "print('Test loss:', loss)"
      ]
    },
    {
      "cell_type": "code",
      "execution_count": null,
      "metadata": {
        "id": "i5yqSKO-LgLx"
      },
      "outputs": [],
      "source": [
        "predictions = model.predict(test_gen)"
      ]
    },
    {
      "cell_type": "code",
      "execution_count": null,
      "metadata": {
        "id": "XgqEN6pCMN4k"
      },
      "outputs": [],
      "source": [
        "predicted_labels = np.argmax(predictions, axis=1)\n",
        "true_labels = test_gen.classes\n",
        "class_names = list(test_gen.class_indices.keys())\n",
        "\n",
        "plt.figure(figsize=(15, 15))\n",
        "for i in range(25):\n",
        "    plt.subplot(5, 5, i + 1)\n",
        "    plt.xticks([])\n",
        "    plt.yticks([])\n",
        "    plt.grid(False)\n",
        "    plt.imshow(test_gen[i // batch_size][0][i % batch_size] / 255.0, cmap=plt.cm.binary)\n",
        "    predicted_label = class_names[predicted_labels[i]]\n",
        "    true_label = class_names[true_labels[i]]\n",
        "    if predicted_label == true_label:\n",
        "        color = 'green'\n",
        "    else:\n",
        "        color = 'red'\n",
        "    plt.xlabel(f\"Predicho: {predicted_label}\\nVerdad: {true_label}\", color=color)\n",
        "plt.show()"
      ]
    },
    {
      "cell_type": "code",
      "execution_count": null,
      "metadata": {
        "id": "iU4ZxM-vN59W"
      },
      "outputs": [],
      "source": [
        "g_dict = test_gen.class_indices\n",
        "classes = list(g_dict.keys())\n",
        "\n",
        "plt.figure(figsize=(30, 25))\n",
        "cm = confusion_matrix(test_gen.classes, predicted_labels)\n",
        "sns.heatmap(cm, annot=True, fmt='d', cmap='Blues', xticklabels=classes, yticklabels=classes)\n",
        "plt.title('Matriz de Confusión')\n",
        "plt.ylabel('Real')\n",
        "plt.xlabel('Predicho')\n",
        "plt.show()"
      ]
    },
    {
      "cell_type": "code",
      "execution_count": null,
      "metadata": {
        "id": "8pqvZI9pRjpI"
      },
      "outputs": [],
      "source": [
        "report = classification_report(test_gen.classes, predicted_labels, target_names= classes, output_dict=True)\n",
        "report_df = pd.DataFrame(report).transpose()\n",
        "report_df = report_df[~report_df.index.isin(['accuracy', 'macro avg', 'weighted avg'])]\n",
        "report_df = report_df.sort_values(by=['support'], ascending=False)\n",
        "\n",
        "country_colors = {\n",
        "    'EE. UU.': 'blue',\n",
        "    'Rusia': 'red',\n",
        "    'China': 'green',\n",
        "    'OTAN': 'orange',\n",
        "    'Canada': 'purple',\n",
        "    'Brasil': 'brown',\n",
        "    'Japón': 'pink',\n",
        "    'Pakistán': 'gray'\n",
        "}\n",
        "\n",
        "report_df = report_df.reset_index()\n",
        "report_df = report_df.rename(columns={\"index\": \"model\"})\n",
        "report_df['country'] = report_df['model'].apply(lambda x: model_to_country.get(x))\n",
        "\n",
        "for metric in ['precision', 'recall', 'f1-score', 'support']:\n",
        "    fig, ax = plt.subplots(figsize=(20, 10))\n",
        "    fig.suptitle(f'{metric.capitalize()} por modelo y país', fontsize=16)\n",
        "    report_df = report_df.sort_values(by=['country', 'model'])\n",
        "\n",
        "    sns.barplot(ax=ax, x='model', y=metric, hue='country', data=report_df, dodge=False, palette=country_colors)\n",
        "\n",
        "    ax.set_xticklabels(ax.get_xticklabels(), rotation=90)\n",
        "    ax.set_xlabel('Modelo')\n",
        "    ax.set_ylabel(metric.capitalize())\n",
        "    ax.legend(title=\"Países\")\n",
        "    plt.tight_layout()\n",
        "    plt.show()"
      ]
    },
    {
      "cell_type": "markdown",
      "metadata": {
        "id": "L3nwVJ8fZIl6"
      },
      "source": [
        "## TERCERA PARTE. ATAQUE FGSM GENÉRICO"
      ]
    },
    {
      "cell_type": "code",
      "execution_count": null,
      "metadata": {
        "id": "7esYldXVbSVv"
      },
      "outputs": [],
      "source": [
        "use_cuda = True\n",
        "\n",
        "print(\"CUDA Available: \",torch.cuda.is_available())\n",
        "device = torch.device(\"cuda\" if (use_cuda and torch.cuda.is_available()) else \"cpu\")\n",
        "print(f\"Using device: {device}\")"
      ]
    },
    {
      "cell_type": "code",
      "execution_count": null,
      "metadata": {
        "id": "cLD8963I6m2v"
      },
      "outputs": [],
      "source": [
        "def fgsm_attack(model, image, label, epsilon):\n",
        "    image = tf.convert_to_tensor(image, dtype=tf.float32)\n",
        "    label = tf.convert_to_tensor(label, dtype=tf.float32)\n",
        "\n",
        "    with tf.GradientTape() as tape:\n",
        "        tape.watch(image)\n",
        "        prediction = model(image, training=False)\n",
        "        loss = tf.keras.losses.categorical_crossentropy(label, prediction)\n",
        "\n",
        "    gradient = tape.gradient(loss, image)\n",
        "    signed_grad = tf.sign(gradient)\n",
        "    adversarial_image = image + epsilon * signed_grad\n",
        "    adversarial_image = tf.clip_by_value(adversarial_image, 0, 255.0)\n",
        "\n",
        "    return adversarial_image"
      ]
    },
    {
      "cell_type": "code",
      "execution_count": null,
      "metadata": {
        "id": "8F0zAjRGtRfB"
      },
      "outputs": [],
      "source": [
        "from tqdm.notebook import tqdm\n",
        "\n",
        "def test_fgsm_attack(model, test_gen, epsilon, max_samples):\n",
        "    adv_images = []\n",
        "    orig_preds = []\n",
        "    adv_preds = []\n",
        "    count = 0\n",
        "    correct = 0\n",
        "\n",
        "    with tqdm(total=max_samples, desc=\"Realizando ataque\") as pbar:\n",
        "        for image, label in test_gen:\n",
        "            if count >= max_samples:\n",
        "                break\n",
        "\n",
        "            orig_pred = model(image)\n",
        "            orig_label = np.argmax(orig_pred)\n",
        "            real_label = np.argmax(label)\n",
        "\n",
        "            if orig_label != real_label:\n",
        "                continue\n",
        "\n",
        "            pbar.update(1)\n",
        "            adv_img = fgsm_attack(model, image, label, epsilon)\n",
        "            adv_pred = model(adv_img)\n",
        "            adv_label = np.argmax(adv_pred)\n",
        "\n",
        "            if adv_label == orig_label:\n",
        "                correct += 1\n",
        "\n",
        "            adv_images.append(adv_img)\n",
        "            adv_preds.append(adv_label)\n",
        "            orig_preds.append(orig_label)\n",
        "            count += 1\n",
        "\n",
        "    final_acc = (correct/count)*100\n",
        "    print(\"Fase Terminada con Epsilon: {}\\tPrecision en conjunto Test = {}%\".format(epsilon, final_acc))\n",
        "\n",
        "    return final_acc, adv_images, adv_preds, orig_preds"
      ]
    },
    {
      "cell_type": "code",
      "execution_count": null,
      "metadata": {
        "id": "ifFO-xWf2Mtc"
      },
      "outputs": [],
      "source": [
        "epsilon = [0, 0.01, 0.05, 0.10, 0.20, 0.50, 1, 5, 10, 50]\n",
        "images_per_eps = 30"
      ]
    },
    {
      "cell_type": "code",
      "execution_count": null,
      "metadata": {
        "id": "7SZpANzAmJv1"
      },
      "outputs": [],
      "source": [
        "acc = []\n",
        "adv_images = []\n",
        "orig_preds = []\n",
        "adv_preds = []\n",
        "\n",
        "with tqdm(total=len(epsilon), desc=\"Progreso total\") as pbar:\n",
        "    for eps in epsilon:\n",
        "        pbar.update(1)\n",
        "        final_acc, adv_images_per_eps, adv_preds_per_eps, orig_preds_per_eps = test_fgsm_attack(model, test_gen, eps, images_per_eps)\n",
        "        acc.append(final_acc)\n",
        "        adv_images.append(adv_images_per_eps)\n",
        "        adv_preds.append(adv_preds_per_eps)\n",
        "        orig_preds.append(orig_preds_per_eps)"
      ]
    },
    {
      "cell_type": "code",
      "execution_count": null,
      "metadata": {
        "id": "hlf0YNx-C_Ua"
      },
      "outputs": [],
      "source": [
        "plt.figure(figsize=(10, 5))\n",
        "plt.plot(epsilon, acc, marker='o', linestyle='-')\n",
        "plt.title('Precisión vs Epsilon en ataque FGSM')\n",
        "plt.xlabel('Epsilon')\n",
        "plt.ylabel('Precisión (%)')\n",
        "plt.grid(True)\n",
        "plt.show()"
      ]
    },
    {
      "cell_type": "code",
      "execution_count": null,
      "metadata": {
        "id": "HEzl3lc4HaJo"
      },
      "outputs": [],
      "source": [
        "g_dict = test_gen.class_indices\n",
        "classes = list(g_dict.keys())\n",
        "\n",
        "num_images = 10\n",
        "\n",
        "for eps in range(len(epsilon)):\n",
        "  plt.figure(figsize=(25, 25))\n",
        "  for i in range(num_images):\n",
        "      plt.subplot(len(epsilon), num_images, i + 1)\n",
        "      plt.imshow(adv_images[eps][i][0] / 255.0)\n",
        "\n",
        "      predicted_model = classes[orig_preds[eps][i]]\n",
        "      attack_model = classes[adv_preds[eps][i]]\n",
        "\n",
        "      if predicted_model != attack_model:\n",
        "          color = 'green'\n",
        "      else:\n",
        "          color = 'red'\n",
        "\n",
        "      title = f\"Predicho: {predicted_model}\\nAtaque: {attack_model}\"\n",
        "      plt.title(title, fontsize=12, color=color)\n",
        "      plt.axis('off')\n",
        "\n",
        "  plt.text(-11, 0.5, f\"Epsilon: {round(epsilon[eps],2)}\", fontsize=15, ha='center', va='center', rotation='vertical', transform=plt.gca().transAxes)\n",
        "  plt.show()"
      ]
    },
    {
      "cell_type": "markdown",
      "metadata": {
        "id": "K51Ehsf7bjEN"
      },
      "source": [
        "# CUARTA PARTE. ATAQUE FGSM DIRIGIDO"
      ]
    },
    {
      "cell_type": "code",
      "execution_count": null,
      "metadata": {
        "id": "Yzrw0XR_sX89"
      },
      "outputs": [],
      "source": [
        "model_path = '/content/drive/MyDrive/20250330_efficientnet.keras'\n",
        "model = keras.models.load_model(model_path)"
      ]
    },
    {
      "cell_type": "code",
      "execution_count": null,
      "metadata": {
        "id": "jjcgkQyIcaB2"
      },
      "outputs": [],
      "source": [
        "def fgsm_targeted_attack_adaptive(models, model, image, label, original_prediction, initial_epsilon, target_classes,\n",
        "                                  iterations=50, min_epsilon=0.001, max_epsilon=10,\n",
        "                                  confidence_threshold=0.9, verbose=True, early_stopping=True,\n",
        "                                  adaptation_rate=0.1):\n",
        "\n",
        "    image = tf.convert_to_tensor(image, dtype=tf.float32)\n",
        "    label = tf.convert_to_tensor(label, dtype=tf.float32)\n",
        "    original_class = np.argmax(original_prediction.numpy(), axis=1)\n",
        "\n",
        "    if verbose:\n",
        "        print(f\"Original class: {models[original_class[0]]} ({original_class[0]}), Original confidence: {np.max(original_prediction.numpy(), axis=1)}\")\n",
        "\n",
        "    pred_values = original_prediction.numpy()\n",
        "    target_probs = {cls: pred_values[0][cls] for cls in target_classes}\n",
        "    most_prob_target_class = max(target_probs, key=target_probs.get)\n",
        "\n",
        "    target_one_hot = tf.one_hot(most_prob_target_class, depth=label.shape[-1])\n",
        "\n",
        "    best_results = {\n",
        "        'image': None,\n",
        "        'predicted_class': None,\n",
        "        'epsilon': None,\n",
        "        'confidence': -1,\n",
        "        'success': False\n",
        "    }\n",
        "\n",
        "    current_epsilon = initial_epsilon\n",
        "    prev_confidence = 0\n",
        "\n",
        "    iterator = tqdm(range(iterations)) if verbose else range(iterations)\n",
        "\n",
        "    epsilon_history = []\n",
        "    confidence_history = []\n",
        "\n",
        "    for i in iterator:\n",
        "        perturbed_image = tf.Variable(image)\n",
        "\n",
        "        with tf.GradientTape() as tape:\n",
        "            tape.watch(perturbed_image)\n",
        "            prediction = model(perturbed_image, training=False)\n",
        "            target_loss = -tf.reduce_sum(target_one_hot * tf.nn.log_softmax(prediction))\n",
        "\n",
        "        gradient = tape.gradient(target_loss, perturbed_image)\n",
        "        signed_grad = tf.sign(gradient)\n",
        "\n",
        "        adversarial_image = tf.clip_by_value(perturbed_image - current_epsilon * signed_grad, 0, 255.0)\n",
        "\n",
        "        new_prediction = model(adversarial_image, training=False)\n",
        "        predicted_class = np.argmax(new_prediction.numpy(), axis=1)\n",
        "        max_confidence = np.max(new_prediction.numpy(), axis=1)\n",
        "        confidence = new_prediction.numpy()[0][most_prob_target_class]\n",
        "\n",
        "        if predicted_class in target_classes:\n",
        "            if confidence > best_results['confidence']:\n",
        "                best_results['image'] = adversarial_image\n",
        "                best_results['predicted_class'] = predicted_class\n",
        "                best_results['epsilon'] = current_epsilon\n",
        "                best_results['confidence'] = confidence\n",
        "                best_results['success'] = True\n",
        "\n",
        "        epsilon_history.append(current_epsilon)\n",
        "        confidence_history.append(confidence)\n",
        "\n",
        "        if i > 0:\n",
        "            confidence_change = confidence - prev_confidence\n",
        "            if confidence_change > 0:\n",
        "                if len(epsilon_history) >= 3:\n",
        "                    epsilon_direction = epsilon_history[-1] - epsilon_history[-2]\n",
        "                    direction_sign = 1 if epsilon_direction > 0 else -1\n",
        "                    step_size = abs(epsilon_direction) * (1 + confidence_change * 2)\n",
        "                    next_epsilon = current_epsilon + direction_sign * step_size\n",
        "                else:\n",
        "                    next_epsilon = current_epsilon * (1 + adaptation_rate)\n",
        "            else:\n",
        "                if len(epsilon_history) >= 3:\n",
        "                    epsilon_direction = epsilon_history[-1] - epsilon_history[-2]\n",
        "                    next_epsilon = current_epsilon - epsilon_direction * adaptation_rate\n",
        "                else:\n",
        "                    next_epsilon = current_epsilon * (1 - adaptation_rate)\n",
        "        else:\n",
        "            next_epsilon = current_epsilon * (1 + adaptation_rate)\n",
        "\n",
        "        next_epsilon = np.clip(next_epsilon, min_epsilon, max_epsilon)\n",
        "\n",
        "        if verbose:\n",
        "            iterator.set_description(f\"Epsilon: {current_epsilon}, \"\n",
        "                                    f\"Max Confidence: {max_confidence}, Target Confidence: {confidence}\")\n",
        "\n",
        "        prev_confidence = confidence\n",
        "        current_epsilon = next_epsilon\n",
        "\n",
        "        if early_stopping and best_results['confidence'] > confidence_threshold:\n",
        "            if verbose:\n",
        "                print(f\"\\nEarly stopping at iteration {i+1}/{iterations}. \"\n",
        "                      f\"Achieved {best_results['confidence']} confidence in target class {models[best_results['predicted_class'][0]]} ({best_results['predicted_class'][0]})\")\n",
        "            break\n",
        "\n",
        "    if i == iterations - 1 and epsilon_history:\n",
        "        best_epsilon_idx = np.argmax(confidence_history)\n",
        "        best_epsilon = epsilon_history[best_epsilon_idx]\n",
        "\n",
        "        with tf.GradientTape() as tape:\n",
        "            perturbed_image = tf.Variable(image)\n",
        "            tape.watch(perturbed_image)\n",
        "            prediction = model(perturbed_image, training=False)\n",
        "            target_loss = -tf.reduce_sum(target_one_hot * tf.nn.log_softmax(prediction))\n",
        "\n",
        "        gradient = tape.gradient(target_loss, perturbed_image)\n",
        "        signed_grad = tf.sign(gradient)\n",
        "        final_adversarial_image = tf.clip_by_value(perturbed_image - best_epsilon * signed_grad, 0, 255.0)\n",
        "\n",
        "        final_prediction = model(final_adversarial_image, training=False)\n",
        "        final_class = np.argmax(final_prediction.numpy(), axis=1)\n",
        "        final_confidence = np.max(final_prediction.numpy(), axis=1)\n",
        "\n",
        "        if final_class in target_classes and final_confidence > best_results['confidence']:\n",
        "            best_results['image'] = final_adversarial_image\n",
        "            best_results['predicted_class'] = final_class\n",
        "            best_results['epsilon'] = best_epsilon\n",
        "            best_results['confidence'] = final_confidence\n",
        "            best_results['success'] = True\n",
        "\n",
        "    if best_results['success']:\n",
        "        if verbose:\n",
        "            print(f\"\\nAttack successful! Target class: {models[best_results['predicted_class'][0]]} ({best_results['predicted_class'][0]}), \"\n",
        "                  f\"Confidence: {best_results['confidence']}, Epsilon: {best_results['epsilon']}\")\n",
        "        return (best_results['image'], best_results['predicted_class'],\n",
        "                best_results['epsilon'], True, best_results['confidence'])\n",
        "    else:\n",
        "        if verbose:\n",
        "            print(\"\\nAttack failed. Returning last attempt.\")\n",
        "        return (adversarial_image, predicted_class, current_epsilon, False, confidence)"
      ]
    },
    {
      "cell_type": "code",
      "execution_count": null,
      "metadata": {
        "id": "QXMnfUO-Z592"
      },
      "outputs": [],
      "source": [
        "from tqdm.notebook import tqdm\n",
        "\n",
        "def test_targeted_fgsm_attack(model, test_gen, epsilon, target_class, max_samples):\n",
        "    adv_images = []\n",
        "    adv_preds = []\n",
        "    epsilons = []\n",
        "    success = []\n",
        "    confidence_list = []\n",
        "    original_labels = []\n",
        "    models = list(test_gen.class_indices.keys())\n",
        "    count = 0\n",
        "\n",
        "    with tqdm(total=max_samples, desc=\"Progreso\") as pbar:\n",
        "        for image, label in test_gen:\n",
        "            pbar.update(1)\n",
        "\n",
        "            if count >= max_samples:\n",
        "                break\n",
        "\n",
        "            if np.argmax(label) in target_class:\n",
        "                continue\n",
        "\n",
        "            orig_pred = model(image, training=False)\n",
        "            orig_label = np.argmax(orig_pred)\n",
        "            real_label = np.argmax(label)\n",
        "\n",
        "            if orig_label != real_label:\n",
        "                continue\n",
        "\n",
        "            adversarial_image, predicted_class, current_epsilon, status, confidence = fgsm_targeted_attack_adaptive(models, model, image, label, orig_pred, epsilon, target_class)\n",
        "            adv_images.append(adversarial_image)\n",
        "            adv_preds.append(predicted_class)\n",
        "            epsilons.append(current_epsilon)\n",
        "            success.append(status)\n",
        "            confidence_list.append(confidence)\n",
        "            original_labels.append(real_label)\n",
        "\n",
        "            count += 1\n",
        "\n",
        "    return adv_images, adv_preds, epsilons, success, confidence_list, original_labels"
      ]
    },
    {
      "cell_type": "code",
      "execution_count": null,
      "metadata": {
        "id": "C1Kn0iqpbyqU"
      },
      "outputs": [],
      "source": [
        "country = 'EE. UU.'\n",
        "\n",
        "models = [k for k, v in model_to_country.items() if v == country]\n",
        "target_classes = [test_gen.class_indices[model] for model in models]\n",
        "\n",
        "epsilon = 0.5\n",
        "max_samples = 100\n",
        "\n",
        "print(f\"Target classes are {target_classes}\")\n",
        "adv_images, adv_preds, epsilons, success, confidence_list, original_labels = test_targeted_fgsm_attack(model, test_gen, epsilon, target_classes, max_samples)"
      ]
    },
    {
      "cell_type": "code",
      "source": [
        "success_count = sum(success)\n",
        "failure_count = len(success) - success_count\n",
        "\n",
        "labels = ['ÉXITO', 'FRACASO']\n",
        "\n",
        "sizes = [success_count, failure_count]\n",
        "\n",
        "plt.figure(figsize=(6, 6))\n",
        "plt.pie(sizes, labels=labels, autopct='%1.1f%%', startangle=90, colors=['green', 'red'])\n",
        "plt.title(f'Tasa de éxito del ataque FGSM dirigido ({max_samples} imágenes, 50 iteraciones)')\n",
        "plt.show()"
      ],
      "metadata": {
        "id": "JDLC0Mw57shU"
      },
      "execution_count": null,
      "outputs": []
    },
    {
      "cell_type": "code",
      "source": [
        "successful_epsilons = [eps for eps, succ in zip(epsilons, success) if succ]\n",
        "average_epsilon = np.mean(successful_epsilons)\n",
        "\n",
        "plt.figure(figsize=(10, 5))\n",
        "plt.scatter(range(len(successful_epsilons)), successful_epsilons, marker='o', linestyle='-')\n",
        "plt.axhline(y=average_epsilon, color='r', linestyle='--', label=f'Media: {average_epsilon:.2f}')\n",
        "plt.title('Valores de Epsilon en Ataques FGSM Dirigidos Exitosos')\n",
        "plt.xlabel('Índice de la Imagen')\n",
        "plt.ylabel('Epsilon')\n",
        "\n",
        "ymin = np.floor(min(successful_epsilons) / 0.5) * 0.5\n",
        "ymax = np.ceil(max(successful_epsilons) / 0.5) * 0.5\n",
        "plt.ylim(ymin, ymax)\n",
        "plt.yticks(np.arange(ymin, ymax + 0.5, 0.5))\n",
        "\n",
        "plt.grid(True)\n",
        "plt.legend(loc='best')\n",
        "plt.show()"
      ],
      "metadata": {
        "id": "kGrc2VRSP241"
      },
      "execution_count": null,
      "outputs": []
    },
    {
      "cell_type": "code",
      "source": [
        "successful_confidences = [conf for conf, succ in zip(confidence_list, success) if succ]\n",
        "successful_confidences = [np.array([conf]) if np.isscalar(conf) else conf for conf in successful_confidences]\n",
        "\n",
        "average_confidence = np.mean(successful_confidences)\n",
        "\n",
        "plt.figure(figsize=(10, 5))\n",
        "plt.scatter(range(len(successful_confidences)), successful_confidences, marker='o', linestyle='-')\n",
        "plt.axhline(y=average_confidence, color='r', linestyle='--', label=f'Media: {average_confidence:.2f}')\n",
        "plt.title('Confianza en Ataques FGSM Dirigidos Exitosos')\n",
        "plt.xlabel('Índice de la Imagen')\n",
        "plt.ylabel('Confianza')\n",
        "plt.grid(True)\n",
        "plt.legend(loc='best')\n",
        "plt.show()"
      ],
      "metadata": {
        "id": "Cb4hbwaoTkgp"
      },
      "execution_count": null,
      "outputs": []
    },
    {
      "cell_type": "code",
      "source": [
        "class_names = list(test_gen.class_indices.keys())\n",
        "\n",
        "successful_indices = [i for i, succ in enumerate(success) if succ]\n",
        "successful_images = [adv_images[i] for i in successful_indices]\n",
        "successful_preds = [adv_preds[i] for i in successful_indices]\n",
        "successful_epsilons = [epsilons[i] for i in successful_indices]\n",
        "successful_confidences = [confidence_list[i] for i in successful_indices]\n",
        "successful_labels = [original_labels[i] for i in successful_indices]\n",
        "\n",
        "num_images = 25\n",
        "\n",
        "plt.figure(figsize=(20, 20))\n",
        "for i in range(num_images):\n",
        "    plt.subplot(5, 5, i + 1)\n",
        "    plt.imshow(successful_images[i][0].numpy() / 255.0)\n",
        "    predicted_class = class_names[successful_preds[i][0]]\n",
        "    epsilon_value = successful_epsilons[i]\n",
        "    confidence_value = successful_confidences[i]\n",
        "    original_label = class_names[successful_labels[i]]\n",
        "    plt.title(f\"{original_label} -> {predicted_class}\\nEpsilon: {epsilon_value:.2f}, Confidence: {confidence_value:.2f}\")\n",
        "    plt.axis('off')\n",
        "plt.show()"
      ],
      "metadata": {
        "id": "hoCnzf2blMZD"
      },
      "execution_count": null,
      "outputs": []
    }
  ],
  "metadata": {
    "accelerator": "GPU",
    "colab": {
      "gpuType": "T4",
      "machine_shape": "hm",
      "provenance": []
    },
    "kernelspec": {
      "display_name": "Python 3",
      "name": "python3"
    },
    "language_info": {
      "name": "python"
    }
  },
  "nbformat": 4,
  "nbformat_minor": 0
}